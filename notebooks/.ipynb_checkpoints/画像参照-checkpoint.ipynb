{
 "cells": [
  {
   "cell_type": "code",
   "execution_count": 1,
   "id": "f5dbbb83-eaef-4054-8c6b-0bab81742d77",
   "metadata": {},
   "outputs": [],
   "source": [
    "import sys\n",
    "sys.path.append(\"..\")\n",
    "\n",
    "import matplotlib.pyplot as plt\n",
    "%matplotlib inline\n",
    "\n",
    "from src.neural_network import get_mnist_raw_data, convert_mnist_data"
   ]
  },
  {
   "cell_type": "code",
   "execution_count": 2,
   "id": "cd68cc8c-9b95-4f5a-8055-ada5902dc0aa",
   "metadata": {},
   "outputs": [],
   "source": [
    "raw_trains = get_mnist_raw_data(\"../mnistdata/mnist_train_100.csv\")\n",
    "trains = convert_mnist_data(raw_trains)\n",
    "\n",
    "raw_test = get_mnist_raw_data(\"../mnistdata/mnist_test_10.csv\")\n",
    "tests = convert_mnist_data(raw_test)"
   ]
  },
  {
   "cell_type": "code",
   "execution_count": 3,
   "id": "9f65c5d4-09ba-4804-82b3-5a6b0b40ccb5",
   "metadata": {},
   "outputs": [
    {
     "name": "stdout",
     "output_type": "stream",
     "text": [
      "actual: 0.0\n"
     ]
    },
    {
     "data": {
      "text/plain": [
       "<matplotlib.image.AxesImage at 0x118aee470>"
      ]
     },
     "execution_count": 3,
     "metadata": {},
     "output_type": "execute_result"
    },
    {
     "data": {
      "image/png": "[encoded data removed]",
      "text/plain": [
       "<Figure size 432x288 with 1 Axes>"
      ]
     },
     "metadata": {
      "needs_background": "light"
     },
     "output_type": "display_data"
    }
   ],
   "source": [
    "idx = 1\n",
    "print(f\"actual: {raw_trains[idx][0]}\")\n",
    "plt.imshow(raw_trains[idx][1].reshape((28, 28)), cmap=\"Greys\", interpolation=\"None\")"
   ]
  }
 ],
 "metadata": {
  "kernelspec": {
   "display_name": "py310",
   "language": "python",
   "name": "py310"
  },
  "language_info": {
   "codemirror_mode": {
    "name": "ipython",
    "version": 3
   },
   "file_extension": ".py",
   "mimetype": "text/x-python",
   "name": "python",
   "nbconvert_exporter": "python",
   "pygments_lexer": "ipython3",
   "version": "3.10.0"
  }
 },
 "nbformat": 4,
 "nbformat_minor": 5
}
